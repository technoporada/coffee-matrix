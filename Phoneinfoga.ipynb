{
  "nbformat": 4,
  "nbformat_minor": 0,
  "metadata": {
    "colab": {
      "name": "Phoneinfoga.ipynb",
      "provenance": [],
      "include_colab_link": true
    },
    "kernelspec": {
      "name": "python3",
      "display_name": "Python 3"
    },
    "accelerator": "GPU"
  },
  "cells": [
    {
      "cell_type": "markdown",
      "metadata": {
        "id": "view-in-github",
        "colab_type": "text"
      },
      "source": [
        "<a href=\"https://colab.research.google.com/github/technoporada/coffee-matrix/blob/main/Phoneinfoga.ipynb\" target=\"_parent\"><img src=\"https://colab.research.google.com/assets/colab-badge.svg\" alt=\"Open In Colab\"/></a>"
      ]
    },
    {
      "cell_type": "markdown",
      "metadata": {
        "id": "SMPVZlQJAg_i"
      },
      "source": [
        "Taken from: https://medium.com/@SundownDEV/phone-number-scanning-osint-recon-tool-6ad8f0cac27b\n",
        "\n",
        "and\n",
        "\n",
        "https://sundowndev.github.io/PhoneInfoga/install/\n",
        "\n",
        "and\n",
        "\n",
        "https://www.youtube.com/watch?v=WW6myutKBYk"
      ]
    },
    {
      "cell_type": "code",
      "metadata": {
        "id": "u8prBn-1-zRa"
      },
      "source": [
        "from google.colab import drive\n",
        "drive.mount('/content/gdrive')"
      ],
      "execution_count": null,
      "outputs": []
    },
    {
      "cell_type": "code",
      "metadata": {
        "id": "HYtMTqaW_XYG"
      },
      "source": [
        "! ls"
      ],
      "execution_count": null,
      "outputs": []
    },
    {
      "cell_type": "code",
      "metadata": {
        "id": "6qRqDWsN_iDD"
      },
      "source": [
        "%cd gdrive/My Drive/Phone Testing"
      ],
      "execution_count": null,
      "outputs": []
    },
    {
      "cell_type": "code",
      "metadata": {
        "id": "fVumINPg_zjb"
      },
      "source": [
        "! git clone https://github.com/sundowndev/PhoneInfoga\n",
        "%cd PhoneInfoga/"
      ],
      "execution_count": null,
      "outputs": []
    },
    {
      "cell_type": "code",
      "metadata": {
        "id": "_VWDlR9KAGQ6"
      },
      "source": [
        "! git pull"
      ],
      "execution_count": null,
      "outputs": []
    },
    {
      "cell_type": "code",
      "metadata": {
        "id": "hl9VS1pNAPGz"
      },
      "source": [
        "!-m pip install -r requirements.txt --user"
      ],
      "execution_count": null,
      "outputs": []
    },
    {
      "cell_type": "code",
      "metadata": {
        "id": "zOssqPYuAZlR"
      },
      "source": [
        "%cp config.example.py config.py"
      ],
      "execution_count": null,
      "outputs": []
    },
    {
      "cell_type": "code",
      "metadata": {
        "id": "WODAn4YeBEbF"
      },
      "source": [
        "! ls"
      ],
      "execution_count": null,
      "outputs": []
    },
    {
      "cell_type": "code",
      "metadata": {
        "id": "fvFN6GOmBql_"
      },
      "source": [
        "! pip install colorama"
      ],
      "execution_count": null,
      "outputs": []
    },
    {
      "cell_type": "code",
      "metadata": {
        "id": "2BIV2GaeB0ma"
      },
      "source": [
        "! pip install selenium"
      ],
      "execution_count": null,
      "outputs": []
    },
    {
      "cell_type": "code",
      "metadata": {
        "id": "6vloawnbB7JN"
      },
      "source": [
        "! pip install phonenumbers"
      ],
      "execution_count": null,
      "outputs": []
    },
    {
      "cell_type": "code",
      "metadata": {
        "id": "VJUvL5LnBX9w"
      },
      "source": [
        "! python3 phoneinfoga.py -v"
      ],
      "execution_count": null,
      "outputs": []
    },
    {
      "cell_type": "markdown",
      "metadata": {
        "id": "PldrJohbC3fK"
      },
      "source": [
        "To use Chrome I found:\n",
        "https://github.com/sundowndev/PhoneInfoga/blob/8179fe4857ca7df2d843119e2123c260e8401818/lib/googlesearch.py#L35"
      ]
    },
    {
      "cell_type": "code",
      "metadata": {
        "id": "I_rf5HsOGOJJ"
      },
      "source": [
        "! python3 phoneinfoga.py -h"
      ],
      "execution_count": null,
      "outputs": []
    },
    {
      "cell_type": "code",
      "metadata": {
        "id": "mshlNNZ-Hcbb",
        "outputId": "b4f2e5f4-2cc7-4ca1-da5e-f60796741603",
        "colab": {
          "base_uri": "https://localhost:8080/",
          "height": 34
        }
      },
      "source": [
        "! brew install geckodriver"
      ],
      "execution_count": null,
      "outputs": [
        {
          "output_type": "stream",
          "text": [
            "/bin/bash: brew: command not found\n"
          ],
          "name": "stdout"
        }
      ]
    },
    {
      "cell_type": "code",
      "metadata": {
        "id": "5NTySTNaGcJp"
      },
      "source": [
        "! python3 phoneinfoga.py -n +15088349054 --recon"
      ],
      "execution_count": null,
      "outputs": []
    }
  ]
}